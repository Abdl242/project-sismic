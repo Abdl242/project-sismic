{
 "cells": [
  {
   "cell_type": "code",
   "execution_count": 1,
   "metadata": {},
   "outputs": [],
   "source": [
    "import pandas as pd\n",
    "import numpy as np\n",
    "import seaborn as sns\n",
    "import pandas as pd"
   ]
  },
  {
   "cell_type": "code",
   "execution_count": 2,
   "metadata": {},
   "outputs": [],
   "source": [
    "df= pd.read_csv(\"data/eartq_full.csv\")"
   ]
  },
  {
   "cell_type": "code",
   "execution_count": 7,
   "metadata": {},
   "outputs": [],
   "source": [
    "df[\"magnitudo\"] = df.magnitudo.astype(float)"
   ]
  },
  {
   "cell_type": "code",
   "execution_count": 10,
   "metadata": {},
   "outputs": [],
   "source": [
    "df = df[df[\"magnitudo\"]>1].copy()"
   ]
  },
  {
   "cell_type": "code",
   "execution_count": 12,
   "metadata": {},
   "outputs": [],
   "source": [
    "X= df[[\"latitude\",\"longitude\"]]\n",
    "y=df.magnitudo"
   ]
  },
  {
   "cell_type": "code",
   "execution_count": 14,
   "metadata": {},
   "outputs": [],
   "source": [
    "from sklearn.preprocessing import StandardScaler\n",
    "scaler = StandardScaler()\n",
    "X_normalized = scaler.fit_transform(X)"
   ]
  },
  {
   "cell_type": "code",
   "execution_count": 15,
   "metadata": {},
   "outputs": [],
   "source": [
    "from sklearn.model_selection import train_test_split\n",
    "X_train, X_test, y_train, y_test = train_test_split(X, y, random_state=0)"
   ]
  },
  {
   "cell_type": "code",
   "execution_count": 16,
   "metadata": {},
   "outputs": [],
   "source": [
    "import tensorflow as tf\n",
    "from sklearn.model_selection import train_test_split\n",
    "\n",
    "from sklearn.metrics import mean_squared_error\n",
    "from tensorflow.keras.models import Sequential\n",
    "from tensorflow.keras.layers import Dense"
   ]
  },
  {
   "cell_type": "code",
   "execution_count": 17,
   "metadata": {},
   "outputs": [
    {
     "name": "stdout",
     "output_type": "stream",
     "text": [
      "Epoch 1/50\n"
     ]
    },
    {
     "name": "stderr",
     "output_type": "stream",
     "text": [
      "2024-01-07 15:50:44.758484: W tensorflow/core/platform/profile_utils/cpu_utils.cc:128] Failed to get CPU frequency: 0 Hz\n"
     ]
    },
    {
     "name": "stdout",
     "output_type": "stream",
     "text": [
      "45740/45740 [==============================] - 22s 465us/step - loss: 0.4497 - val_loss: 0.3600\n",
      "Epoch 2/50\n",
      "45740/45740 [==============================] - 21s 460us/step - loss: 0.3422 - val_loss: 0.3516\n",
      "Epoch 3/50\n",
      "45740/45740 [==============================] - 21s 466us/step - loss: 0.3338 - val_loss: 0.3327\n",
      "Epoch 4/50\n",
      "45740/45740 [==============================] - 21s 466us/step - loss: 0.3283 - val_loss: 0.3229\n",
      "Epoch 5/50\n",
      "45740/45740 [==============================] - 21s 469us/step - loss: 0.3247 - val_loss: 0.3260\n",
      "Epoch 6/50\n",
      "45740/45740 [==============================] - 22s 490us/step - loss: 0.3228 - val_loss: 0.3333\n",
      "Epoch 7/50\n",
      "45740/45740 [==============================] - 25s 538us/step - loss: 0.3207 - val_loss: 0.3168\n",
      "Epoch 8/50\n",
      "45740/45740 [==============================] - 24s 514us/step - loss: 0.3192 - val_loss: 0.3211\n",
      "Epoch 9/50\n",
      "45740/45740 [==============================] - 23s 502us/step - loss: 0.3181 - val_loss: 0.3145\n",
      "Epoch 10/50\n",
      "45740/45740 [==============================] - 24s 527us/step - loss: 0.3174 - val_loss: 0.3148\n",
      "Epoch 11/50\n",
      "45740/45740 [==============================] - 24s 519us/step - loss: 0.3167 - val_loss: 0.3127\n",
      "Epoch 12/50\n",
      "45740/45740 [==============================] - 20s 448us/step - loss: 0.3159 - val_loss: 0.3184\n",
      "Epoch 13/50\n",
      "45740/45740 [==============================] - 21s 455us/step - loss: 0.3152 - val_loss: 0.3141\n",
      "Epoch 14/50\n",
      "45740/45740 [==============================] - 21s 460us/step - loss: 0.3139 - val_loss: 0.3089\n",
      "Epoch 15/50\n",
      "45740/45740 [==============================] - 21s 453us/step - loss: 0.3132 - val_loss: 0.3207\n",
      "Epoch 16/50\n",
      "45740/45740 [==============================] - 21s 460us/step - loss: 0.3130 - val_loss: 0.3293\n",
      "Epoch 17/50\n",
      "45740/45740 [==============================] - 21s 458us/step - loss: 0.3126 - val_loss: 0.3132\n",
      "Epoch 18/50\n",
      "45740/45740 [==============================] - 21s 457us/step - loss: 0.3123 - val_loss: 0.3121\n",
      "Epoch 19/50\n",
      "45740/45740 [==============================] - 22s 480us/step - loss: 0.3117 - val_loss: 0.3173\n",
      "Epoch 20/50\n",
      "45740/45740 [==============================] - 20s 444us/step - loss: 0.3117 - val_loss: 0.3120\n",
      "Epoch 21/50\n",
      "45740/45740 [==============================] - 21s 453us/step - loss: 0.3113 - val_loss: 0.3109\n",
      "Epoch 22/50\n",
      "45740/45740 [==============================] - 20s 443us/step - loss: 0.3111 - val_loss: 0.3087\n",
      "Epoch 23/50\n",
      "45740/45740 [==============================] - 20s 446us/step - loss: 0.3110 - val_loss: 0.3055\n",
      "Epoch 24/50\n",
      "45740/45740 [==============================] - 21s 462us/step - loss: 0.3108 - val_loss: 0.3102\n",
      "Epoch 25/50\n",
      "45740/45740 [==============================] - 20s 445us/step - loss: 0.3106 - val_loss: 0.3070\n",
      "Epoch 26/50\n",
      "45740/45740 [==============================] - 21s 464us/step - loss: 0.3111 - val_loss: 0.3241\n",
      "Epoch 27/50\n",
      "45740/45740 [==============================] - 22s 472us/step - loss: 0.3106 - val_loss: 0.3077\n",
      "Epoch 28/50\n",
      "45740/45740 [==============================] - 20s 446us/step - loss: 0.3107 - val_loss: 0.3120\n",
      "Epoch 29/50\n",
      "45740/45740 [==============================] - 21s 452us/step - loss: 0.3105 - val_loss: 0.3176\n",
      "Epoch 30/50\n",
      "45740/45740 [==============================] - 21s 455us/step - loss: 0.3107 - val_loss: 0.3106\n",
      "Epoch 31/50\n",
      "45740/45740 [==============================] - 20s 439us/step - loss: 0.3101 - val_loss: 0.3080\n",
      "Epoch 32/50\n",
      "45740/45740 [==============================] - 20s 439us/step - loss: 0.3101 - val_loss: 0.3109\n",
      "Epoch 33/50\n",
      "45740/45740 [==============================] - 21s 463us/step - loss: 0.3096 - val_loss: 0.3091\n",
      "Epoch 34/50\n",
      "45740/45740 [==============================] - 24s 529us/step - loss: 0.3110 - val_loss: 0.3079\n",
      "Epoch 35/50\n",
      "45740/45740 [==============================] - 25s 552us/step - loss: 0.3098 - val_loss: 0.3084\n",
      "Epoch 36/50\n",
      "45740/45740 [==============================] - 23s 504us/step - loss: 0.3096 - val_loss: 0.3065\n",
      "Epoch 37/50\n",
      "45740/45740 [==============================] - 21s 464us/step - loss: 0.3092 - val_loss: 0.3044\n",
      "Epoch 38/50\n",
      "45740/45740 [==============================] - 21s 459us/step - loss: 0.3090 - val_loss: 0.3087\n",
      "Epoch 39/50\n",
      "45740/45740 [==============================] - 63s 1ms/step - loss: 0.3089 - val_loss: 0.3106\n",
      "Epoch 40/50\n",
      "45740/45740 [==============================] - 25s 542us/step - loss: 0.3085 - val_loss: 0.3038\n",
      "Epoch 41/50\n",
      "45740/45740 [==============================] - 23s 501us/step - loss: 0.3087 - val_loss: 0.3028\n",
      "Epoch 42/50\n",
      "45740/45740 [==============================] - 22s 481us/step - loss: 0.3087 - val_loss: 0.3091\n",
      "Epoch 43/50\n",
      "45740/45740 [==============================] - 22s 472us/step - loss: 0.3086 - val_loss: 0.3024\n",
      "Epoch 44/50\n",
      "45740/45740 [==============================] - 21s 454us/step - loss: 0.3088 - val_loss: 0.3059\n",
      "Epoch 45/50\n",
      "45740/45740 [==============================] - 21s 461us/step - loss: 0.3084 - val_loss: 0.3089\n",
      "Epoch 46/50\n",
      "45740/45740 [==============================] - 22s 479us/step - loss: 0.3089 - val_loss: 0.3109\n",
      "Epoch 47/50\n",
      "45740/45740 [==============================] - 21s 449us/step - loss: 0.3083 - val_loss: 0.3083\n",
      "Epoch 48/50\n",
      "45740/45740 [==============================] - 20s 447us/step - loss: 0.3085 - val_loss: 0.3063\n",
      "Epoch 49/50\n",
      "45740/45740 [==============================] - 21s 459us/step - loss: 0.3083 - val_loss: 0.3054\n",
      "Epoch 50/50\n",
      "45740/45740 [==============================] - 22s 488us/step - loss: 0.3080 - val_loss: 0.3062\n"
     ]
    },
    {
     "data": {
      "text/plain": [
       "<keras.callbacks.History at 0x2cffa46d0>"
      ]
     },
     "execution_count": 17,
     "metadata": {},
     "output_type": "execute_result"
    }
   ],
   "source": [
    "\n",
    "\n",
    "model = Sequential()\n",
    "model.add(Dense(64, activation='relu', input_dim=2))\n",
    "model.add(Dense(32, activation='relu'))\n",
    "model.add(Dense(1, activation='linear'))\n",
    "# Compile the model\n",
    "model.compile(optimizer='adam', loss='mean_squared_error')\n",
    "# Train the model\n",
    "model.fit(X_train, y_train, epochs=50, batch_size=32, validation_split=0.2)"
   ]
  },
  {
   "cell_type": "code",
   "execution_count": 18,
   "metadata": {},
   "outputs": [
    {
     "name": "stdout",
     "output_type": "stream",
     "text": [
      "19058/19058 [==============================] - 5s 272us/step\n",
      "Mean Squared Error on Test Set: 0.30578452226171143\n"
     ]
    }
   ],
   "source": [
    "y_pred = model.predict(X_test)\n",
    "mse = mean_squared_error(y_test, y_pred)\n",
    "print(f'Mean Squared Error on Test Set: {mse}')"
   ]
  },
  {
   "cell_type": "code",
   "execution_count": 19,
   "metadata": {},
   "outputs": [],
   "source": [
    "f =pd.DataFrame(y_test.values)\n",
    "f[\"pred\"] = pd.DataFrame(y_pred)"
   ]
  },
  {
   "cell_type": "code",
   "execution_count": 23,
   "metadata": {},
   "outputs": [
    {
     "data": {
      "text/html": [
       "<div>\n",
       "<style scoped>\n",
       "    .dataframe tbody tr th:only-of-type {\n",
       "        vertical-align: middle;\n",
       "    }\n",
       "\n",
       "    .dataframe tbody tr th {\n",
       "        vertical-align: top;\n",
       "    }\n",
       "\n",
       "    .dataframe thead th {\n",
       "        text-align: right;\n",
       "    }\n",
       "</style>\n",
       "<table border=\"1\" class=\"dataframe\">\n",
       "  <thead>\n",
       "    <tr style=\"text-align: right;\">\n",
       "      <th></th>\n",
       "      <th>0</th>\n",
       "      <th>pred</th>\n",
       "    </tr>\n",
       "  </thead>\n",
       "  <tbody>\n",
       "    <tr>\n",
       "      <th>53126</th>\n",
       "      <td>9.10</td>\n",
       "      <td>4.648828</td>\n",
       "    </tr>\n",
       "    <tr>\n",
       "      <th>68087</th>\n",
       "      <td>8.10</td>\n",
       "      <td>4.473942</td>\n",
       "    </tr>\n",
       "    <tr>\n",
       "      <th>314761</th>\n",
       "      <td>8.30</td>\n",
       "      <td>4.390055</td>\n",
       "    </tr>\n",
       "    <tr>\n",
       "      <th>361463</th>\n",
       "      <td>8.10</td>\n",
       "      <td>4.154974</td>\n",
       "    </tr>\n",
       "    <tr>\n",
       "      <th>361567</th>\n",
       "      <td>8.16</td>\n",
       "      <td>4.362707</td>\n",
       "    </tr>\n",
       "    <tr>\n",
       "      <th>366183</th>\n",
       "      <td>8.10</td>\n",
       "      <td>4.936480</td>\n",
       "    </tr>\n",
       "  </tbody>\n",
       "</table>\n",
       "</div>"
      ],
      "text/plain": [
       "           0      pred\n",
       "53126   9.10  4.648828\n",
       "68087   8.10  4.473942\n",
       "314761  8.30  4.390055\n",
       "361463  8.10  4.154974\n",
       "361567  8.16  4.362707\n",
       "366183  8.10  4.936480"
      ]
     },
     "execution_count": 23,
     "metadata": {},
     "output_type": "execute_result"
    }
   ],
   "source": [
    "f[f[0]>8]"
   ]
  },
  {
   "cell_type": "code",
   "execution_count": 24,
   "metadata": {},
   "outputs": [],
   "source": [
    "model.save('sismic_tf.h5')"
   ]
  },
  {
   "cell_type": "code",
   "execution_count": 25,
   "metadata": {},
   "outputs": [
    {
     "name": "stdout",
     "output_type": "stream",
     "text": [
      "INFO:tensorflow:Assets written to: sismic_model/assets\n"
     ]
    }
   ],
   "source": [
    "model.save('sismic_model')"
   ]
  },
  {
   "cell_type": "code",
   "execution_count": null,
   "metadata": {},
   "outputs": [],
   "source": []
  }
 ],
 "metadata": {
  "kernelspec": {
   "display_name": "lewagon_data-science",
   "language": "python",
   "name": "python3"
  },
  "language_info": {
   "codemirror_mode": {
    "name": "ipython",
    "version": 3
   },
   "file_extension": ".py",
   "mimetype": "text/x-python",
   "name": "python",
   "nbconvert_exporter": "python",
   "pygments_lexer": "ipython3",
   "version": "3.10.6"
  }
 },
 "nbformat": 4,
 "nbformat_minor": 2
}
