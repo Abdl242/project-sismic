{
 "cells": [
  {
   "cell_type": "code",
   "execution_count": null,
   "metadata": {},
   "outputs": [
    {
     "name": "stdout",
     "output_type": "stream",
     "text": [
      "INFO:root:Open WebSocket connection to wss://www.seismicportal.eu/standing_order/websocket\n"
     ]
    },
    {
     "ename": "RuntimeError",
     "evalue": "This event loop is already running",
     "output_type": "error",
     "traceback": [
      "\u001b[0;31m---------------------------------------------------------------------------\u001b[0m",
      "\u001b[0;31mRuntimeError\u001b[0m                              Traceback (most recent call last)",
      "Cell \u001b[0;32mIn [3], line 50\u001b[0m\n\u001b[1;32m     48\u001b[0m launch_client()\n\u001b[1;32m     49\u001b[0m \u001b[38;5;28;01mtry\u001b[39;00m:\n\u001b[0;32m---> 50\u001b[0m     \u001b[43mioloop\u001b[49m\u001b[38;5;241;43m.\u001b[39;49m\u001b[43mstart\u001b[49m\u001b[43m(\u001b[49m\u001b[43m)\u001b[49m\n\u001b[1;32m     51\u001b[0m \u001b[38;5;28;01mexcept\u001b[39;00m \u001b[38;5;167;01mKeyboardInterrupt\u001b[39;00m:\n\u001b[1;32m     52\u001b[0m     logging\u001b[38;5;241m.\u001b[39minfo(\u001b[38;5;124m\"\u001b[39m\u001b[38;5;124mClose WebSocket\u001b[39m\u001b[38;5;124m\"\u001b[39m)\n",
      "File \u001b[0;32m~/.pyenv/versions/3.10.6/envs/lewagon_data-science/lib/python3.10/site-packages/tornado/platform/asyncio.py:215\u001b[0m, in \u001b[0;36mBaseAsyncIOLoop.start\u001b[0;34m(self)\u001b[0m\n\u001b[1;32m    213\u001b[0m \u001b[38;5;28;01mtry\u001b[39;00m:\n\u001b[1;32m    214\u001b[0m     asyncio\u001b[38;5;241m.\u001b[39mset_event_loop(\u001b[38;5;28mself\u001b[39m\u001b[38;5;241m.\u001b[39masyncio_loop)\n\u001b[0;32m--> 215\u001b[0m     \u001b[38;5;28;43mself\u001b[39;49m\u001b[38;5;241;43m.\u001b[39;49m\u001b[43masyncio_loop\u001b[49m\u001b[38;5;241;43m.\u001b[39;49m\u001b[43mrun_forever\u001b[49m\u001b[43m(\u001b[49m\u001b[43m)\u001b[49m\n\u001b[1;32m    216\u001b[0m \u001b[38;5;28;01mfinally\u001b[39;00m:\n\u001b[1;32m    217\u001b[0m     asyncio\u001b[38;5;241m.\u001b[39mset_event_loop(old_loop)\n",
      "File \u001b[0;32m~/.pyenv/versions/3.10.6/lib/python3.10/asyncio/base_events.py:590\u001b[0m, in \u001b[0;36mBaseEventLoop.run_forever\u001b[0;34m(self)\u001b[0m\n\u001b[1;32m    588\u001b[0m \u001b[38;5;124;03m\"\"\"Run until stop() is called.\"\"\"\u001b[39;00m\n\u001b[1;32m    589\u001b[0m \u001b[38;5;28mself\u001b[39m\u001b[38;5;241m.\u001b[39m_check_closed()\n\u001b[0;32m--> 590\u001b[0m \u001b[38;5;28;43mself\u001b[39;49m\u001b[38;5;241;43m.\u001b[39;49m\u001b[43m_check_running\u001b[49m\u001b[43m(\u001b[49m\u001b[43m)\u001b[49m\n\u001b[1;32m    591\u001b[0m \u001b[38;5;28mself\u001b[39m\u001b[38;5;241m.\u001b[39m_set_coroutine_origin_tracking(\u001b[38;5;28mself\u001b[39m\u001b[38;5;241m.\u001b[39m_debug)\n\u001b[1;32m    592\u001b[0m \u001b[38;5;28mself\u001b[39m\u001b[38;5;241m.\u001b[39m_thread_id \u001b[38;5;241m=\u001b[39m threading\u001b[38;5;241m.\u001b[39mget_ident()\n",
      "File \u001b[0;32m~/.pyenv/versions/3.10.6/lib/python3.10/asyncio/base_events.py:582\u001b[0m, in \u001b[0;36mBaseEventLoop._check_running\u001b[0;34m(self)\u001b[0m\n\u001b[1;32m    580\u001b[0m \u001b[38;5;28;01mdef\u001b[39;00m \u001b[38;5;21m_check_running\u001b[39m(\u001b[38;5;28mself\u001b[39m):\n\u001b[1;32m    581\u001b[0m     \u001b[38;5;28;01mif\u001b[39;00m \u001b[38;5;28mself\u001b[39m\u001b[38;5;241m.\u001b[39mis_running():\n\u001b[0;32m--> 582\u001b[0m         \u001b[38;5;28;01mraise\u001b[39;00m \u001b[38;5;167;01mRuntimeError\u001b[39;00m(\u001b[38;5;124m'\u001b[39m\u001b[38;5;124mThis event loop is already running\u001b[39m\u001b[38;5;124m'\u001b[39m)\n\u001b[1;32m    583\u001b[0m     \u001b[38;5;28;01mif\u001b[39;00m events\u001b[38;5;241m.\u001b[39m_get_running_loop() \u001b[38;5;129;01mis\u001b[39;00m \u001b[38;5;129;01mnot\u001b[39;00m \u001b[38;5;28;01mNone\u001b[39;00m:\n\u001b[1;32m    584\u001b[0m         \u001b[38;5;28;01mraise\u001b[39;00m \u001b[38;5;167;01mRuntimeError\u001b[39;00m(\n\u001b[1;32m    585\u001b[0m             \u001b[38;5;124m'\u001b[39m\u001b[38;5;124mCannot run the event loop while another loop is running\u001b[39m\u001b[38;5;124m'\u001b[39m)\n",
      "\u001b[0;31mRuntimeError\u001b[0m: This event loop is already running"
     ]
    },
    {
     "name": "stdout",
     "output_type": "stream",
     "text": [
      "INFO:root:Waiting for messages...\n",
      "INFO:root:>>>> create  event from PR     , unid:20240104_0000283, T0:2024-01-04T19:20:34.7Z, Mag:2.2, Region: PUERTO RICO\n",
      "INFO:root:>>>> create  event from PR     , unid:20240104_0000283, T0:2024-01-04T19:20:34.7Z, Mag:2.2, Region: PUERTO RICO\n",
      "INFO:root:>>>> create  event from PR     , unid:20240104_0000283, T0:2024-01-04T19:20:34.7Z, Mag:2.2, Region: PUERTO RICO\n",
      "INFO:root:>>>> create  event from SNET   , unid:20240104_0000284, T0:2024-01-04T20:32:00.0Z, Mag:4.2, Region: OFFSHORE EL SALVADOR\n",
      "INFO:root:>>>> create  event from SNET   , unid:20240104_0000284, T0:2024-01-04T20:32:00.0Z, Mag:4.2, Region: OFFSHORE EL SALVADOR\n",
      "INFO:root:>>>> create  event from SNET   , unid:20240104_0000284, T0:2024-01-04T20:32:00.0Z, Mag:4.2, Region: OFFSHORE EL SALVADOR\n",
      "INFO:root:>>>> update  event from NEIC   , unid:20231231_0000244, T0:2023-12-31T20:17:44.0Z, Mag:2.7, Region: NORTHERN CALIFORNIA\n",
      "INFO:root:>>>> update  event from NEIC   , unid:20231231_0000244, T0:2023-12-31T20:17:44.0Z, Mag:2.7, Region: NORTHERN CALIFORNIA\n",
      "INFO:root:>>>> update  event from NEIC   , unid:20231231_0000244, T0:2023-12-31T20:17:44.0Z, Mag:2.7, Region: NORTHERN CALIFORNIA\n",
      "INFO:root:>>>> update  event from NC     , unid:20231231_0000244, T0:2023-12-31T20:17:44.6Z, Mag:2.7, Region: NORTHERN CALIFORNIA\n",
      "INFO:root:>>>> update  event from NC     , unid:20231231_0000244, T0:2023-12-31T20:17:44.6Z, Mag:2.7, Region: NORTHERN CALIFORNIA\n",
      "INFO:root:>>>> update  event from NC     , unid:20231231_0000244, T0:2023-12-31T20:17:44.6Z, Mag:2.7, Region: NORTHERN CALIFORNIA\n",
      "INFO:root:>>>> create  event from THE    , unid:20240104_0000285, T0:2024-01-04T21:08:02.7Z, Mag:2.3, Region: AEGEAN SEA\n",
      "INFO:root:>>>> create  event from THE    , unid:20240104_0000285, T0:2024-01-04T21:08:02.7Z, Mag:2.3, Region: AEGEAN SEA\n",
      "INFO:root:>>>> create  event from THE    , unid:20240104_0000285, T0:2024-01-04T21:08:02.7Z, Mag:2.3, Region: AEGEAN SEA\n",
      "INFO:root:>>>> update  event from AYIT   , unid:20240104_0000275, T0:2024-01-04T19:39:30.3Z, Mag:3.1, Region: HAITI REGION\n",
      "INFO:root:>>>> update  event from AYIT   , unid:20240104_0000275, T0:2024-01-04T19:39:30.3Z, Mag:3.1, Region: HAITI REGION\n",
      "INFO:root:>>>> update  event from AYIT   , unid:20240104_0000275, T0:2024-01-04T19:39:30.3Z, Mag:3.1, Region: HAITI REGION\n",
      "INFO:root:>>>> create  event from AFAD   , unid:20240104_0000286, T0:2024-01-04T21:26:41.0Z, Mag:2.6, Region: WESTERN TURKEY\n",
      "INFO:root:>>>> create  event from AFAD   , unid:20240104_0000286, T0:2024-01-04T21:26:41.0Z, Mag:2.6, Region: WESTERN TURKEY\n",
      "INFO:root:>>>> create  event from AFAD   , unid:20240104_0000286, T0:2024-01-04T21:26:41.0Z, Mag:2.6, Region: WESTERN TURKEY\n",
      "INFO:root:>>>> update  event from CSN    , unid:20231220_0000199, T0:2023-12-20T15:42:10.0Z, Mag:3.2, Region: ANTOFAGASTA, CHILE\n",
      "INFO:root:>>>> update  event from CSN    , unid:20231220_0000199, T0:2023-12-20T15:42:10.0Z, Mag:3.2, Region: ANTOFAGASTA, CHILE\n",
      "INFO:root:>>>> update  event from CSN    , unid:20231220_0000199, T0:2023-12-20T15:42:10.0Z, Mag:3.2, Region: ANTOFAGASTA, CHILE\n",
      "INFO:root:>>>> create  event from NOA    , unid:20240104_0000287, T0:2024-01-04T21:32:42.130059Z, Mag:3.0, Region: GREECE\n",
      "INFO:root:>>>> create  event from NOA    , unid:20240104_0000287, T0:2024-01-04T21:32:42.130059Z, Mag:3.0, Region: GREECE\n",
      "INFO:root:>>>> create  event from NOA    , unid:20240104_0000287, T0:2024-01-04T21:32:42.130059Z, Mag:3.0, Region: GREECE\n",
      "INFO:root:>>>> update  event from THE    , unid:20240104_0000287, T0:2024-01-04T21:32:41.3Z, Mag:3.0, Region: GREECE\n",
      "INFO:root:>>>> update  event from THE    , unid:20240104_0000287, T0:2024-01-04T21:32:41.3Z, Mag:3.0, Region: GREECE\n",
      "INFO:root:>>>> update  event from THE    , unid:20240104_0000287, T0:2024-01-04T21:32:41.3Z, Mag:3.0, Region: GREECE\n",
      "INFO:root:>>>> create  event from AFAD   , unid:20240104_0000288, T0:2024-01-04T21:25:14.0Z, Mag:1.7, Region: WESTERN TURKEY\n",
      "INFO:root:>>>> create  event from AFAD   , unid:20240104_0000288, T0:2024-01-04T21:25:14.0Z, Mag:1.7, Region: WESTERN TURKEY\n",
      "INFO:root:>>>> create  event from AFAD   , unid:20240104_0000288, T0:2024-01-04T21:25:14.0Z, Mag:1.7, Region: WESTERN TURKEY\n",
      "INFO:root:>>>> create  event from AFAD   , unid:20240104_0000289, T0:2024-01-04T21:23:37.0Z, Mag:1.8, Region: WESTERN TURKEY\n",
      "INFO:root:>>>> create  event from AFAD   , unid:20240104_0000289, T0:2024-01-04T21:23:37.0Z, Mag:1.8, Region: WESTERN TURKEY\n",
      "INFO:root:>>>> create  event from AFAD   , unid:20240104_0000289, T0:2024-01-04T21:23:37.0Z, Mag:1.8, Region: WESTERN TURKEY\n",
      "INFO:root:>>>> update  event from NOA    , unid:20240104_0000287, T0:2024-01-04T21:32:40.35415Z, Mag:3.0, Region: GREECE\n",
      "INFO:root:>>>> update  event from NOA    , unid:20240104_0000287, T0:2024-01-04T21:32:40.35415Z, Mag:3.0, Region: GREECE\n",
      "INFO:root:>>>> update  event from NOA    , unid:20240104_0000287, T0:2024-01-04T21:32:40.35415Z, Mag:3.0, Region: GREECE\n",
      "INFO:root:>>>> update  event from KOERI  , unid:20240104_0000286, T0:2024-01-04T21:26:42.1Z, Mag:2.7, Region: WESTERN TURKEY\n",
      "INFO:root:>>>> update  event from KOERI  , unid:20240104_0000286, T0:2024-01-04T21:26:42.1Z, Mag:2.7, Region: WESTERN TURKEY\n",
      "INFO:root:>>>> update  event from KOERI  , unid:20240104_0000286, T0:2024-01-04T21:26:42.1Z, Mag:2.7, Region: WESTERN TURKEY\n"
     ]
    }
   ],
   "source": [
    "from __future__ import unicode_literals\n",
    "\n",
    "from tornado.websocket import websocket_connect\n",
    "from tornado.ioloop import IOLoop\n",
    "from tornado import gen\n",
    "\n",
    "import logging\n",
    "import json\n",
    "import sys\n",
    "\n",
    "echo_uri = 'wss://www.seismicportal.eu/standing_order/websocket'\n",
    "PING_INTERVAL = 15\n",
    "\n",
    "#You can modify this function to run custom process on the message\n",
    "def myprocessing(message):\n",
    "    try:\n",
    "        data = json.loads(message)\n",
    "        info = data['data']['properties']\n",
    "        info['action'] = data['action']\n",
    "        logging.info('>>>> {action:7} event from {auth:7}, unid:{unid}, T0:{time}, Mag:{mag}, Region: {flynn_region}'.format(**info))\n",
    "    except Exception:\n",
    "        logging.exception(\"Unable to parse json message\")\n",
    "\n",
    "@gen.coroutine\n",
    "def listen(ws):\n",
    "    while True:\n",
    "        msg = yield ws.read_message()\n",
    "        if msg is None:\n",
    "            logging.info(\"close\")\n",
    "            self.ws = None\n",
    "            break\n",
    "        myprocessing(msg)\n",
    "\n",
    "@gen.coroutine\n",
    "def launch_client():\n",
    "    try:\n",
    "        logging.info(\"Open WebSocket connection to %s\", echo_uri)\n",
    "        ws = yield websocket_connect(echo_uri, ping_interval=PING_INTERVAL)\n",
    "    except Exception:\n",
    "        logging.exception(\"connection error\")\n",
    "    else:\n",
    "        logging.info(\"Waiting for messages...\")\n",
    "        listen(ws)\n",
    "\n",
    "if __name__ == '__main__':\n",
    "    logging.basicConfig(stream=sys.stdout, level=logging.INFO)\n",
    "    ioloop = IOLoop.instance()\n",
    "    launch_client()\n",
    "    try:\n",
    "        ioloop.start()\n",
    "    except KeyboardInterrupt:\n",
    "        logging.info(\"Close WebSocket\")\n",
    "        ioloop.stop()"
   ]
  },
  {
   "cell_type": "code",
   "execution_count": null,
   "metadata": {},
   "outputs": [],
   "source": [
    "f{'action': 'update', 'data': {'type': 'Feature', 'geometry': {'type': 'Point', 'coordinates': [-73.6, 18.37, -9.0]}, 'id': '20240104_0000275', 'properties': {'source_id': '1601879', 'source_catalog': 'EMSC-RTS', 'lastupdate': '2024-01-04T19:48:07.189228Z', 'time': '2024-01-04T19:39:30.3Z', 'flynn_region': 'HAITI REGION', 'lat': 18.37, 'lon': -73.6, 'depth': 9.0, 'evtype': 'ue', 'auth': 'AYIT', 'mag': 3.1, 'magtype': 'm', 'unid': '20240104_0000275', 'action': 'update'}}}\n",
    "{'source_id': '1601879', 'source_catalog': 'EMSC-RTS', 'lastupdate': '2024-01-04T19:48:07.189228Z', 'time': '2024-01-04T19:39:30.3Z', 'flynn_region': 'HAITI REGION', 'lat': 18.37, 'lon': -73.6, 'depth': 9.0, 'evtype': 'ue', 'auth': 'AYIT', 'mag': 3.1, 'magtype': 'm', 'unid': '20240104_0000275', 'action': 'update'}\n",
    "INFO:root:>>>> update  event from AYIT   , unid:20240104_0000275, T0:2024-01-04T19:39:30.3Z, Mag:3.1, Region: HAITI REGION"
   ]
  },
  {
   "cell_type": "code",
   "execution_count": 4,
   "metadata": {},
   "outputs": [
    {
     "data": {
      "text/plain": [
       "{'source_id': '1601879',\n",
       " 'source_catalog': 'EMSC-RTS',\n",
       " 'lastupdate': '2024-01-04T19:48:07.189228Z',\n",
       " 'time': '2024-01-04T19:39:30.3Z',\n",
       " 'flynn_region': 'HAITI REGION',\n",
       " 'lat': 18.37,\n",
       " 'lon': -73.6,\n",
       " 'depth': 9.0,\n",
       " 'evtype': 'ue',\n",
       " 'auth': 'AYIT',\n",
       " 'mag': 3.1,\n",
       " 'magtype': 'm',\n",
       " 'unid': '20240104_0000275',\n",
       " 'action': 'update'}"
      ]
     },
     "execution_count": 4,
     "metadata": {},
     "output_type": "execute_result"
    }
   ],
   "source": [
    "js_ = {'action': 'update', 'data': {'type': 'Feature', 'geometry': {'type': 'Point', 'coordinates': [-73.6, 18.37, -9.0]}, 'id': '20240104_0000275', 'properties': {'source_id': '1601879', 'source_catalog': 'EMSC-RTS', 'lastupdate': '2024-01-04T19:48:07.189228Z', 'time': '2024-01-04T19:39:30.3Z', 'flynn_region': 'HAITI REGION', 'lat': 18.37, 'lon': -73.6, 'depth': 9.0, 'evtype': 'ue', 'auth': 'AYIT', 'mag': 3.1, 'magtype': 'm', 'unid': '20240104_0000275', 'action': 'update'}}}\n",
    "{'source_id': '1601879', 'source_catalog': 'EMSC-RTS', 'lastupdate': '2024-01-04T19:48:07.189228Z', 'time': '2024-01-04T19:39:30.3Z', 'flynn_region': 'HAITI REGION', 'lat': 18.37, 'lon': -73.6, 'depth': 9.0, 'evtype': 'ue', 'auth': 'AYIT', 'mag': 3.1, 'magtype': 'm', 'unid': '20240104_0000275', 'action': 'update'}\n"
   ]
  },
  {
   "cell_type": "code",
   "execution_count": 5,
   "metadata": {},
   "outputs": [
    {
     "data": {
      "text/plain": [
       "{'action': 'update',\n",
       " 'data': {'type': 'Feature',\n",
       "  'geometry': {'type': 'Point', 'coordinates': [-73.6, 18.37, -9.0]},\n",
       "  'id': '20240104_0000275',\n",
       "  'properties': {'source_id': '1601879',\n",
       "   'source_catalog': 'EMSC-RTS',\n",
       "   'lastupdate': '2024-01-04T19:48:07.189228Z',\n",
       "   'time': '2024-01-04T19:39:30.3Z',\n",
       "   'flynn_region': 'HAITI REGION',\n",
       "   'lat': 18.37,\n",
       "   'lon': -73.6,\n",
       "   'depth': 9.0,\n",
       "   'evtype': 'ue',\n",
       "   'auth': 'AYIT',\n",
       "   'mag': 3.1,\n",
       "   'magtype': 'm',\n",
       "   'unid': '20240104_0000275',\n",
       "   'action': 'update'}}}"
      ]
     },
     "execution_count": 5,
     "metadata": {},
     "output_type": "execute_result"
    },
    {
     "name": "stdout",
     "output_type": "stream",
     "text": [
      "INFO:root:>>>> create  event from ARSO   , unid:20240104_0000290, T0:2024-01-04T21:47:00.0Z, Mag:1.7, Region: CROATIA\n",
      "INFO:root:>>>> create  event from ARSO   , unid:20240104_0000290, T0:2024-01-04T21:47:00.0Z, Mag:1.7, Region: CROATIA\n",
      "INFO:root:>>>> create  event from ARSO   , unid:20240104_0000290, T0:2024-01-04T21:47:00.0Z, Mag:1.7, Region: CROATIA\n"
     ]
    }
   ],
   "source": [
    "js_"
   ]
  },
  {
   "cell_type": "code",
   "execution_count": null,
   "metadata": {},
   "outputs": [],
   "source": []
  }
 ],
 "metadata": {
  "kernelspec": {
   "display_name": "lewagon_data-science",
   "language": "python",
   "name": "python3"
  },
  "language_info": {
   "codemirror_mode": {
    "name": "ipython",
    "version": 3
   },
   "file_extension": ".py",
   "mimetype": "text/x-python",
   "name": "python",
   "nbconvert_exporter": "python",
   "pygments_lexer": "ipython3",
   "version": "3.10.6"
  }
 },
 "nbformat": 4,
 "nbformat_minor": 2
}
